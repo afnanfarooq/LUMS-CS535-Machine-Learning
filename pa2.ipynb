{
 "cells": [
  {
   "cell_type": "markdown",
   "metadata": {
    "id": "rWZaPyoQJCM9"
   },
   "source": [
    "# Programming Assignment 2: Linear Regression\n",
    "\n",
    "## Instructions\n",
    "\n",
    "- The aim of this assignment is to give you a hands-on with a real-life machine learning application.\n",
    "- Use separate training, and testing data as discussed in class.\n",
    "- You can only use Python programming language and Jupyter Notebooks.\n",
    "- There are three parts of this assignment. In parts 1 & 2, you can only use **numpy, scipy, pandas, matplotlib and are not allowed to use NLTK, scikit-learn or any other machine learning toolkit**. However, you have to use **scikit-learn** in part 3.\n",
    "- Carefully read the submission instructions, plagiarism and late days policy below.\n",
    "\n",
    "## Submission Instructions\n",
    "\n",
    "Submit your code both as notebook file (.ipynb) and python script (.py) on LMS. The name of both files should be your roll number. If you don’t know how to save .ipynb as .py [see this](https://i.stack.imgur.com/L1rQH.png). **Failing to submit any one of them will result in the reduction of marks**.\n",
    "\n",
    "## Plagiarism Policy\n",
    "\n",
    "The code MUST be done independently. Any plagiarism or cheating of work from others or the internet will be immediately referred to the DC. If you are confused about what constitutes plagiarism, it is YOUR responsibility to consult with the instructor or the TA in a timely manner. No “after the fact” negotiations will be possible. The only way to guarantee that you do not lose marks is “DO NOT LOOK AT ANYONE ELSE'S CODE NOR DISCUSS IT WITH THEM”.\n",
    "\n",
    "## Late Days Policy\n",
    "\n",
    "The deadline of the assignment is final. However, in order to accommodate all the 11th hour issues there is a late submission policy i.e. you can submit your assignment within 3 days after the deadline with 25% deduction each day.\n",
    "\n",
    "\n",
    "## Introduction\n",
    "\n",
    "In this exercise, you will implement linear regression and get to see it work on data. After completing this assignment, you will know:\n",
    "- How to implement linear regression from scratch.\n",
    "- How to estimate linear regression parameters using gradient descent.\n",
    "- How to make predictions on new data using learned parameters.\n",
    "\n",
    "Let's start with the necessary imports."
   ]
  },
  {
   "cell_type": "code",
   "execution_count": 2,
   "metadata": {
    "id": "GwD7l3_8JCNB"
   },
   "outputs": [],
   "source": [
    "import os\n",
    "import numpy as np\n",
    "from matplotlib import pyplot\n",
    "%matplotlib inline"
   ]
  },
  {
   "cell_type": "markdown",
   "metadata": {
    "id": "aUArU3FuJCNL"
   },
   "source": [
    "## 1. Linear Regression with one variable\n",
    "\n",
    "Linear regression assumes a linear relationship between the input variables (X) and the single output variable (Y). More specifically, that output (Y) can be calculated from a linear combination of the input variables (X). When there is a single input variable, the method is referred to as a simple linear regression.\n",
    "\n",
    "Now you will implement simple linear regression to predict profits for a food truck. Suppose you are the CEO of a restaurant franchise and are considering different cities for opening a new outlet. The chain already has trucks in various cities and you have data for profits and populations from the cities. You would like to use this data to help you select which city to expand to next."
   ]
  },
  {
   "cell_type": "markdown",
   "metadata": {
    "id": "lB6VouqHJCNM"
   },
   "source": [
    "### 1.1 Load the dataset\n",
    "\n",
    "The file `Data/ex1data1.txt` contains the dataset for our linear regression problem. The first column is the population of a city (in 10,000s) and the second column is the profit of a food truck in that city (in $10,000s). A negative value for profit indicates a loss. \n",
    "\n",
    "We provide you with the code needed to load this data. The dataset is loaded from the data file into the variables `X` and `Y`."
   ]
  },
  {
   "cell_type": "code",
   "execution_count": 3,
   "metadata": {
    "id": "bAV6QorJJCNN"
   },
   "outputs": [],
   "source": [
    "data = np.loadtxt(os.path.join('Data', 'D:\\Downloads\\Assignment 2\\Assignment 2\\Data\\ex1data.txt'), delimiter=',')\n",
    "X, Y = data[:, 0], data[:, 1]"
   ]
  },
  {
   "cell_type": "markdown",
   "metadata": {
    "id": "SP-xw2k_JCNT"
   },
   "source": [
    "### 1.2 Plot the dataset\n",
    "Before starting on any task, it is often useful to understand the data by visualizing it. For this dataset, you can use a scatter plot to visualize the data, since it has only two properties to plot (profit and population). Execute the next cell to visualize the data."
   ]
  },
  {
   "cell_type": "code",
   "execution_count": 4,
   "metadata": {
    "colab": {
     "base_uri": "https://localhost:8080/",
     "height": 297
    },
    "id": "UqJozhW_JCNU",
    "outputId": "ab573c25-eb0c-45cb-bef4-cf8aae01233c"
   },
   "outputs": [
    {
     "data": {
      "text/plain": [
       "Text(0.5, 0, 'Population of City in 10,000s')"
      ]
     },
     "execution_count": 4,
     "metadata": {},
     "output_type": "execute_result"
    },
    {
     "data": {
      "image/png": "[encoded data removed]",
      "text/plain": [
       "<Figure size 432x288 with 1 Axes>"
      ]
     },
     "metadata": {
      "needs_background": "light"
     },
     "output_type": "display_data"
    }
   ],
   "source": [
    "pyplot.plot(X, Y, 'ro', ms=10, mec='k')\n",
    "pyplot.ylabel('Profit in $10,000')\n",
    "pyplot.xlabel('Population of City in 10,000s')"
   ]
  },
  {
   "cell_type": "markdown",
   "metadata": {
    "id": "1_NA4sxbJCNX"
   },
   "source": [
    "### 1.3 Learn the parameters\n",
    "In this part, you will fit the linear regression parameters $\\theta$ to the food truck dataset using gradient descent.\n",
    "\n",
    "The objective of linear regression is to minimize the cost function\n",
    "\n",
    "$$ J(\\theta) = \\frac{1}{2m} \\sum_{i=1}^m \\left( h_{\\theta}(x^{(i)}) - y^{(i)}\\right)^2 ------ (i)$$ \n",
    "\n",
    "where the hypothesis $h_\\theta(x)$ is given by the linear model\n",
    "$$ h_\\theta(x) = \\theta_0 + \\theta_1 x ------ (ii)$$\n",
    "\n",
    "The parameters of your model are the $\\theta_j$ values. These are\n",
    "the values you will adjust to minimize cost $J(\\theta)$. One way to do this is to\n",
    "use the batch gradient descent algorithm. In batch gradient descent, each\n",
    "iteration performs the update\n",
    "\n",
    "$$ \\theta_0 = \\theta_0 - \\alpha \\frac{1}{m} \\sum_{i=1}^m \\left( h_\\theta(x^{(i)}) - y^{(i)}\\right) ------ (iii)$$\n",
    "\n",
    "$$ \\theta_1 = \\theta_1 - \\alpha \\frac{1}{m} \\sum_{i=1}^m \\left( h_\\theta(x^{(i)}) - y^{(i)}\\right)x^{(i)} ------ (iv)$$\n",
    "\n",
    "With each step of gradient descent, your parameters $\\theta_j$ come closer to the optimal values that will achieve the lowest cost J($\\theta$).\n",
    "\n",
    "Let's start by implementing the hypothesis $h_\\theta(x)$."
   ]
  },
  {
   "cell_type": "code",
   "execution_count": 5,
   "metadata": {
    "id": "iz_H4qeTJCNY"
   },
   "outputs": [],
   "source": [
    "### GRADED FUNCTION ###\n",
    "def predict(x, theta0, theta1):\n",
    "    '''\n",
    "    Calculates the hypothesis for any input sample `x` given the parameters `theta`.\n",
    "    \n",
    "    Arguments\n",
    "    ---------\n",
    "    x : float\n",
    "        The input sample.\n",
    "    \n",
    "    theta0 : float\n",
    "        The parameter for the regression function.\n",
    "        \n",
    "    theta1 : float\n",
    "        The parameter for the regression function.\n",
    "    \n",
    "    Returns\n",
    "    -------\n",
    "    h_x : float\n",
    "        The hypothesis for input sample.\n",
    "    \n",
    "    Hint(s)\n",
    "    -------\n",
    "    Compute equation (ii).\n",
    "    '''\n",
    "    # You need to return the following variable(s) correctly\n",
    "    h_x = 0.0\n",
    "    \n",
    "    ### START CODE HERE ### (≈ 1 line of code)\n",
    "    h_x = theta0 + (theta1 * x)\n",
    "    ### END CODE HERE ###\n",
    "    \n",
    "    return h_x"
   ]
  },
  {
   "cell_type": "markdown",
   "metadata": {
    "id": "6Wfh78ccJCNd"
   },
   "source": [
    "Execute the next cell to verify your implementation."
   ]
  },
  {
   "cell_type": "code",
   "execution_count": 6,
   "metadata": {
    "colab": {
     "base_uri": "https://localhost:8080/",
     "height": 85
    },
    "id": "EN8mz3UXJCNe",
    "outputId": "30dfe0ae-9de8-456c-c4ac-c71f60335d05"
   },
   "outputs": [
    {
     "name": "stdout",
     "output_type": "stream",
     "text": [
      "With x = 2, theta0 = 1.0, theta1 = 1.0\n",
      "Predicted Hypothesis h(x) = 3.00\n",
      "Expected hypothesis h(x) = 3.00\n",
      "\n"
     ]
    }
   ],
   "source": [
    "h_x = predict(x=2, theta0=1.0, theta1=1.0)\n",
    "print('With x = 2, theta0 = 1.0, theta1 = 1.0\\nPredicted Hypothesis h(x) = %.2f' % h_x)\n",
    "print(\"Expected hypothesis h(x) = 3.00\\n\")"
   ]
  },
  {
   "cell_type": "markdown",
   "metadata": {
    "id": "v-ANU6EpJCNk"
   },
   "source": [
    "As you perform gradient descent to learn minimize the cost function  $J(\\theta)$, it is helpful to monitor the convergence by computing the cost. In this section, you will implement a function to calculate  $J(\\theta)$ so you can check the convergence of your gradient descent implementation."
   ]
  },
  {
   "cell_type": "code",
   "execution_count": 7,
   "metadata": {
    "id": "YQLWl0T2JCNk"
   },
   "outputs": [],
   "source": [
    "### GRADED FUNCTION ###\n",
    "def computeCost(X, Y, theta0, theta1):\n",
    "    '''\n",
    "    Computes cost for linear regression. Computes the cost of using `theta` as the\n",
    "    parameter for linear regression to fit the data points in `X` and `Y`.\n",
    "    \n",
    "    Arguments\n",
    "    ---------\n",
    "    X : array\n",
    "        The input dataset of shape (m, ), where m is the number of training examples.\n",
    "    \n",
    "    Y : array\n",
    "        The values of the function at each data point. This is a vector of\n",
    "        shape (m, ), where m is the number of training examples.\n",
    "    \n",
    "    theta0 : float\n",
    "        The parameter for the regression function.\n",
    "        \n",
    "    theta1 : float\n",
    "        The parameter for the regression function.\n",
    "    \n",
    "    Returns\n",
    "    -------\n",
    "    J : float\n",
    "        The value of the regression cost function.\n",
    "    \n",
    "    Hint(s)\n",
    "    -------\n",
    "    Compute equation (i).\n",
    "    '''\n",
    "    # initialize some useful values\n",
    "    m = Y.size  # number of training examples\n",
    "    \n",
    "    # You need to return the following variable(s) correctly\n",
    "    J = 0\n",
    "        \n",
    "    ### START CODE HERE ### (≈ 3-4 lines of code)\n",
    "    for i in range(m):\n",
    "      J = J + pow(predict(X[i], theta0, theta1) - Y[i], 2)\n",
    "    J = (1/(2*m)) * J\n",
    "\n",
    "    ### END CODE HERE ###\n",
    "    \n",
    "    return J"
   ]
  },
  {
   "cell_type": "markdown",
   "metadata": {
    "id": "QBNGCsygJCNp"
   },
   "source": [
    "Execute the next cell to verify your implementation."
   ]
  },
  {
   "cell_type": "code",
   "execution_count": 8,
   "metadata": {
    "colab": {
     "base_uri": "https://localhost:8080/",
     "height": 85
    },
    "id": "OnJakiAuJCNq",
    "outputId": "10e20a6b-0d62-4154-edf0-b5c0cb90a58f"
   },
   "outputs": [
    {
     "name": "stdout",
     "output_type": "stream",
     "text": [
      "With theta0 = 1.0, theta1 = 1.0\n",
      "Predicted cost J = 10.27\n",
      "Expected cost J = 10.27\n",
      "\n"
     ]
    }
   ],
   "source": [
    "J = computeCost(X, Y, theta0=1.0, theta1=1.0)\n",
    "print('With theta0 = 1.0, theta1 = 1.0\\nPredicted cost J = %.2f' % J)\n",
    "print(\"Expected cost J = 10.27\\n\")"
   ]
  },
  {
   "cell_type": "markdown",
   "metadata": {
    "id": "NJ_OWwEFJCNu"
   },
   "source": [
    "Next, you will complete a function which implements gradient descent. The loop structure has been written for you, and you only need to supply the updates to parameters $\\theta_j$  within each iteration (epoch). \n",
    "\n",
    "The starter code for the function `gradientDescent` calls `computeCost` on every iteration and saves the cost to a `python` list. Assuming you have implemented `gradientDescent` and `computeCost` correctly, your value of $J(\\theta)$ should never increase, and should converge to a steady value by the end of the algorithm."
   ]
  },
  {
   "cell_type": "code",
   "execution_count": 9,
   "metadata": {
    "id": "lWz_3DKHJCNv"
   },
   "outputs": [],
   "source": [
    "### GRADED FUNCTION ###\n",
    "def gradientDescent(X, Y, alpha, n_epoch):\n",
    "    \"\"\"\n",
    "    Performs gradient descent to learn `theta`. Updates `theta` by taking `n_epoch`\n",
    "    gradient steps with learning rate `alpha`.\n",
    "    \n",
    "    Arguments\n",
    "    ---------\n",
    "    X : array\n",
    "        The input dataset of shape (m, ), where m is the number of training examples.\n",
    "    \n",
    "    Y : array\n",
    "        The values of the function at each data point. This is a vector of\n",
    "        shape (m, ), where m is the number of training examples.\n",
    "    \n",
    "    alpha : float\n",
    "        The learning rate.\n",
    "    \n",
    "    n_epoch : int\n",
    "        The number of iterations for gradient descent. \n",
    "    \n",
    "    Returns\n",
    "    -------\n",
    "    theta0 : float\n",
    "        The parameter for the regression function.\n",
    "        \n",
    "    theta1 : float\n",
    "        The parameter for the regression function.\n",
    "    \n",
    "    J : list\n",
    "        A python list for the values of the cost function after each iteration.\n",
    "    \n",
    "    Hint(s)\n",
    "    -------\n",
    "    Compute equation (iii) and (iv).\n",
    "\n",
    "    While debugging, it can be useful to print out the values of \n",
    "    the cost function (computeCost) here.\n",
    "    \"\"\"\n",
    "    # initialize some useful values\n",
    "    m = Y.size  # number of training examples\n",
    "    J = list()  # list to store cost\n",
    "    \n",
    "    # You need to return the following variables correctly\n",
    "    theta0 = 0.0\n",
    "    theta1 = 0.0\n",
    "    \n",
    "    for epoch in range(n_epoch):\n",
    "        ### START CODE HERE ### (≈ 5-10 lines of code)\n",
    "        hx = [predict(x, theta0, theta1) for x in X]\n",
    "        theta0 -= (alpha/m) * np.sum(hx - Y)\n",
    "        theta1 -= (alpha/m) * np.sum((hx - Y) * X)\n",
    "        J.append(computeCost(X, Y, theta0, theta1))\n",
    "        \n",
    "        ### END CODE HERE ###\n",
    "\n",
    "    return theta0, theta1, J"
   ]
  },
  {
   "cell_type": "markdown",
   "metadata": {
    "id": "pToacQZKJCNz"
   },
   "source": [
    "Execute the next cell to verify your implementation."
   ]
  },
  {
   "cell_type": "code",
   "execution_count": 10,
   "metadata": {
    "colab": {
     "base_uri": "https://localhost:8080/",
     "height": 51
    },
    "id": "pfn3vnWQJCN0",
    "outputId": "09bcddac-cbcd-441a-e7ba-d9c030447ee6"
   },
   "outputs": [
    {
     "name": "stdout",
     "output_type": "stream",
     "text": [
      "Predicted theta0 = -3.6303, theta1 = 1.1664, cost = 4.4834\n",
      "Expected theta0 = -3.6303, theta1 = 1.1664, cost = 4.4834\n"
     ]
    }
   ],
   "source": [
    "n_epoch = 1500\n",
    "alpha = 0.01\n",
    "\n",
    "theta0, theta1, J = gradientDescent(X ,Y, alpha, n_epoch)\n",
    "print('Predicted theta0 = %.4f, theta1 = %.4f, cost = %.4f' % (theta0, theta1, J[-1]))\n",
    "print('Expected theta0 = -3.6303, theta1 = 1.1664, cost = 4.4834')"
   ]
  },
  {
   "cell_type": "markdown",
   "metadata": {
    "id": "VxUC15OPJCN3"
   },
   "source": [
    "### 1.4 Plot the linear fit\n",
    "\n",
    "Use your learned parameters $\\theta_j$ to plot the linear fit."
   ]
  },
  {
   "cell_type": "code",
   "execution_count": 11,
   "metadata": {
    "colab": {
     "base_uri": "https://localhost:8080/",
     "height": 297
    },
    "id": "yEHnaF7NJCN4",
    "outputId": "8e5e2113-6b90-44ed-f8c9-96b62c6803fe"
   },
   "outputs": [
    {
     "data": {
      "text/plain": [
       "<matplotlib.legend.Legend at 0x20b4a819790>"
      ]
     },
     "execution_count": 11,
     "metadata": {},
     "output_type": "execute_result"
    },
    {
     "data": {
      "image/png": "[encoded data removed]",
      "text/plain": [
       "<Figure size 432x288 with 1 Axes>"
      ]
     },
     "metadata": {
      "needs_background": "light"
     },
     "output_type": "display_data"
    }
   ],
   "source": [
    "h_x = list()\n",
    "for x in X:\n",
    "    h_x.append(predict(x, theta0, theta1))\n",
    "pyplot.plot(X, Y, 'ro', ms=10, mec='k')\n",
    "pyplot.ylabel('Profit in $10,000')\n",
    "pyplot.xlabel('Population of City in 10,000s')\n",
    "pyplot.plot(X, h_x, '-')\n",
    "pyplot.legend(['Training data', 'Linear regression'])"
   ]
  },
  {
   "cell_type": "markdown",
   "metadata": {
    "id": "Ryf752JpJCN8"
   },
   "source": [
    "### 1.5 Make predictions\n",
    "\n",
    "Use your learned parameters $\\theta_j$ to make food truck profit predictions in areas with population of 40,000 and 65,000."
   ]
  },
  {
   "cell_type": "code",
   "execution_count": 12,
   "metadata": {
    "colab": {
     "base_uri": "https://localhost:8080/",
     "height": 51
    },
    "id": "0WEqpYywJCN9",
    "outputId": "8d76a63c-fd0d-4904-edb9-68c9dfbe8534"
   },
   "outputs": [
    {
     "name": "stdout",
     "output_type": "stream",
     "text": [
      "For population = 40,000, predicted profit = $10351.58\n",
      "For population = 65,000, predicted profit = $39510.64\n"
     ]
    }
   ],
   "source": [
    "print('For population = 40,000, predicted profit = $%.2f' % (predict(4, theta0, theta1)*10000))\n",
    "print('For population = 65,000, predicted profit = $%.2f' % (predict(6.5, theta0, theta1)*10000))"
   ]
  },
  {
   "cell_type": "markdown",
   "metadata": {
    "id": "wTaw7YsXJCOC"
   },
   "source": [
    "## 2. Multivariate Linear Regression\n",
    "\n",
    "Now, you will implement multivariate linear regression (from scratch) to predict the the median price of homes in a Boston suburb during the mid-1970s. To do this, you are given with the dataset that has 404 examples in the train set and 102 examples in test set. Each example has 13 input variables (features) and one output variable (price in $10,000s). Below is the description of input variables:\n",
    "\n",
    "- Per capita crime rate.\n",
    "- The proportion of residential land zoned for lots over 25,000 square feet.\n",
    "- The proportion of non-retail business acres per town.\n",
    "- Charles River dummy variable (= 1 if tract bounds river; 0 otherwise).\n",
    "- Nitric oxides concentration (parts per 10 million).\n",
    "- The average number of rooms per dwelling.\n",
    "- The proportion of owner-occupied units built before 1940.\n",
    "- Weighted distances to five Boston employment centers.\n",
    "- Index of accessibility to radial highways.\n",
    "- Full-value property-tax rate per $10,000.\n",
    "- Pupil-teacher ratio by town.\n",
    "- 1000 * (Bk - 0.63) ** 2 where Bk is the proportion of Black people by town.\n",
    "- Percentage lower status of the population.\n",
    "\n",
    "Each one of these input features is stored using a different scale. Some features are represented by a proportion between 0 and 1, other features are ranges between 1 and 12, some are ranges between 0 and 100, and so on. This is often the case with real-world data, and understanding how to explore and clean such data is an important skill to develop.\n",
    "\n",
    "A common way to normalize features that use different scales and ranges is:\n",
    "\n",
    "- Subtract the mean value of each feature from the dataset.\n",
    "- After subtracting the mean, additionally scale (divide) the feature values by their respective standard deviations.\n",
    "\n",
    "Note: We only use examples of the train set to estimate the mean and standard deviation.\n",
    "\n",
    "You have to follow exactly the same steps as above i.e. implement hypothesis, cost function and gradient descent for multivariate linear regression to learn parameters $\\theta$ using train set. Finally, report the cost (error) using your learned parameters $\\theta$ on test set. Expected Mean Square Error on this dataset is 11.5 - 12.5 approximately. \n",
    "\n",
    "We provide you with the code needed to load this dataset. The dataset is loaded from the data files into the variables `train_X`, `train_Y`, `test_X` and `test_Y`."
   ]
  },
  {
   "cell_type": "code",
   "execution_count": 41,
   "metadata": {
    "id": "s_EvGsEiJCOD"
   },
   "outputs": [],
   "source": [
    "train_X = np.loadtxt(os.path.join('Data', 'D:\\Downloads\\Assignment 2\\Assignment 2\\Data\\ex2traindata.txt'))\n",
    "train_Y = np.loadtxt(os.path.join('Data', 'D:\\Downloads\\Assignment 2\\Assignment 2\\Data\\ex2trainlabels.txt'))\n",
    "test_X = np.loadtxt(os.path.join('Data', 'D:\\Downloads\\Assignment 2\\Assignment 2\\Data\\ex2testdata.txt'))\n",
    "test_Y = np.loadtxt(os.path.join('Data', 'D:\\Downloads\\Assignment 2\\Assignment 2\\Data\\ex2testlabels.txt'))"
   ]
  },
  {
   "cell_type": "code",
   "execution_count": 42,
   "metadata": {
    "id": "M01wdRTfJCOH"
   },
   "outputs": [],
   "source": [
    "''' Start your code of part 2 from here, add the new code cells as per your requirement. '''\n",
    "# Normalizes the data by subtracting the mean and then dividing by std dev\n",
    "def normalize(X):\n",
    "  mean = np.mean(X, axis=0)\n",
    "  std = np.std(X, axis=0)\n",
    "  return ((X-mean)/std)\n",
    "\n",
    "# predictions\n",
    "def pred(X, theta, b):\n",
    "    h_x = np.dot(theta, X.T) + b\n",
    "    return h_x\n",
    "\n",
    "# compute cost\n",
    "def compCost(Y, h_x):\n",
    "    m = Y.shape[0]  # number of training examples\n",
    "    J = (1/(2*m)) * np.sum(np.square(h_x - Y))\n",
    "    return J\n",
    "\n",
    "# fit\n",
    "def gradDescent(X, Y, alpha, n_epoch):\n",
    "   \n",
    "    m = Y.shape[0]  # number of training examples\n",
    "    J = list()  # list to store cost\n",
    "    theta = np.zeros((1, X.shape[1]))\n",
    "    b = np.zeros((1,1))\n",
    "\n",
    "    for epoch in range(n_epoch):\n",
    "        h_x = pred(X, theta, b)\n",
    "        error = h_x - Y\n",
    "        theta -= ((1/m) * alpha * (np.matmul(error, X)))\n",
    "        b -= ((1/m) * alpha * np.sum(error))   \n",
    "        J.append(compCost(Y, h_x))\n",
    "\n",
    "    return J, theta, b\n",
    "\n",
    "# test your model\n",
    "def test(X, Y, theta, b):\n",
    "  h_x = pred(X, theta, b)\n",
    "  return compCost(Y, h_x)"
   ]
  },
  {
   "cell_type": "code",
   "execution_count": 43,
   "metadata": {
    "id": "sZW7mOIkTqSg"
   },
   "outputs": [],
   "source": [
    "# normalize data\n",
    "train_X = normalize(train_X)\n",
    "test_X = normalize(test_X)"
   ]
  },
  {
   "cell_type": "code",
   "execution_count": 44,
   "metadata": {
    "id": "fzI0VLV0VfFX"
   },
   "outputs": [],
   "source": [
    "#  fit the model\n",
    "J, theta, b= gradDescent(train_X, train_Y, alpha=0.01, n_epoch=1500)"
   ]
  },
  {
   "cell_type": "code",
   "execution_count": 45,
   "metadata": {
    "colab": {
     "base_uri": "https://localhost:8080/",
     "height": 34
    },
    "id": "JDhFmTIhoU14",
    "outputId": "8294f271-706b-4d7a-9a0b-7b615e838ed7"
   },
   "outputs": [
    {
     "name": "stdout",
     "output_type": "stream",
     "text": [
      "Expected mean square error (MSE) =  10.322831403890335\n"
     ]
    }
   ],
   "source": [
    "# test \n",
    "mse = test(test_X, test_Y, theta, b)\n",
    "print(\"Expected mean square error (MSE) = \", mse)"
   ]
  },
  {
   "cell_type": "markdown",
   "metadata": {
    "id": "Zj941vZEJCOL"
   },
   "source": [
    "## 3. Regularized Linear Regression\n",
    "\n",
    "Now, you'll use the [scikit-learn](https://scikit-learn.org/stable/index.html) to implement [Linear Regression](https://scikit-learn.org/stable/modules/generated/sklearn.linear_model.LinearRegression.html), [Ridge](https://scikit-learn.org/stable/modules/generated/sklearn.linear_model.Ridge.html#sklearn.linear_model.Ridge), [Lasso](https://scikit-learn.org/stable/modules/generated/sklearn.linear_model.Lasso.html#sklearn.linear_model.Lasso), [Elastic Net](https://scikit-learn.org/stable/modules/generated/sklearn.linear_model.ElasticNet.html#sklearn.linear_model.ElasticNet) and apply them to Boston house pricing dataset (provided in part 2). Try out different values of regularization coefficient (known as alpha in scikit-learn) and use the [Mean Squared Error](https://scikit-learn.org/stable/modules/generated/sklearn.metrics.mean_squared_error.html) to report loss with each regression. Finally, plot the regularization coefficients alpha (x-axis) with learned parameters $\\theta$ (y-axis) for Ridge and Lasso. Please read [this blog](https://scienceloft.com/technical/understanding-lasso-and-ridge-regression/) to get better understanding of the desired plots."
   ]
  },
  {
   "cell_type": "code",
   "execution_count": 25,
   "metadata": {
    "id": "jktg1ThIJCOL"
   },
   "outputs": [],
   "source": [
    "from sklearn.linear_model import LinearRegression\n",
    "from sklearn.linear_model import Ridge\n",
    "from sklearn.linear_model import Lasso\n",
    "from sklearn.linear_model import ElasticNet\n",
    "from sklearn.metrics import mean_squared_error\n",
    "import matplotlib.pyplot as plt\n",
    "from sklearn import linear_model\n",
    "\n"
   ]
  },
  {
   "cell_type": "code",
   "execution_count": 38,
   "metadata": {
    "colab": {
     "base_uri": "https://localhost:8080/",
     "height": 85
    },
    "id": "rqAx9vf2JCOP",
    "outputId": "ef890ca9-a205-489c-d484-8005969dc00c"
   },
   "outputs": [
    {
     "name": "stdout",
     "output_type": "stream",
     "text": [
      "[ 9.69267239 21.05859431 20.94145461 34.25223414 25.95902598 20.56741038\n",
      " 28.15310405 25.07113862 20.30519458 22.82489511 20.29027213 18.07938917\n",
      " 16.46141024 35.31166595 19.41369959 19.34727116 24.58140904 21.01346252\n",
      " 19.99079236 23.79286427 12.20780045 17.14218992 22.51468752 12.92570511\n",
      " 21.18070615 23.94073547 33.46176314 24.2631555  13.35213096 20.71939252\n",
      " 23.45082103 19.1486881  36.09743765 23.47113531 19.03141995  5.92425733\n",
      " 14.02090469 22.96425377 16.01731242 27.09134249 22.06997029 28.61755389\n",
      " 17.75679772 34.75579014 31.29455712 24.73234165 31.12655323 18.09268992\n",
      " 22.62638989 24.21208909 30.5854317  18.71860574 10.50163617 13.73779292\n",
      " 34.4022841  27.53140317 18.08151522 40.05101982 37.63271513 24.64021422\n",
      " 25.73823434 20.64369987 20.33514699 21.38393124 24.63485497 23.53071805\n",
      " 17.42141466 26.76911736  3.83782148 11.97063636 24.2602519  23.67191799\n",
      " 23.66639182  8.4403269  28.52690962 20.94071229 20.44489658 24.77678169\n",
      " 33.77299778  7.02038331 24.55379254 36.73923493 16.09878612 18.14663987\n",
      " 20.48899554 18.7928142  22.45683561 26.19154506 23.36585592 28.89583791\n",
      " 17.48243942 16.05642916 26.69532678 28.1393996  35.04164989 20.05308052\n",
      " 36.25269116 38.51475052 25.13506119 41.49062194 34.65500235 25.33950895]\n",
      "23.195599256423154\n"
     ]
    }
   ],
   "source": [
    "import numpy as np\n",
    "import matplotlib.pyplot as plt\n",
    "import os\n",
    "train_X = np.loadtxt(os.path.join('Data', 'D:\\Downloads\\Assignment 2\\Assignment 2\\Data\\ex2traindata.txt'))\n",
    "train_Y = np.loadtxt(os.path.join('Data', 'D:\\Downloads\\Assignment 2\\Assignment 2\\Data\\ex2trainlabels.txt'))\n",
    "test_X = np.loadtxt(os.path.join('Data', 'D:\\Downloads\\Assignment 2\\Assignment 2\\Data\\ex2testdata.txt'))\n",
    "test_Y = np.loadtxt(os.path.join('Data', 'D:\\Downloads\\Assignment 2\\Assignment 2\\Data\\ex2testlabels.txt'))\n",
    "regr=LinearRegression()\n",
    "regr.fit(train_X,train_Y)\n",
    "predictions=regr.score(test_X,test_Y)\n",
    "y_regr=regr.predict(test_X)\n",
    "print(y_regr)\n",
    "\n",
    "print(mean_squared_error(test_Y, y_regr))\n"
   ]
  },
  {
   "cell_type": "code",
   "execution_count": 39,
   "metadata": {},
   "outputs": [
    {
     "name": "stdout",
     "output_type": "stream",
     "text": [
      "[ 9.39856575 20.50624944 21.57130432 33.36540233 25.61028236 20.99263222\n",
      " 28.71995631 24.87229821 19.88375387 22.28300617 19.90485025 18.26792666\n",
      " 16.40957978 35.53016206 18.85902273 19.50272481 24.27551021 20.87535722\n",
      " 19.50714827 24.69470307 11.52798774 16.33455311 22.42878093 12.66562797\n",
      " 21.28416244 23.13588726 32.915096   25.17457714 13.13132004 20.51717897\n",
      " 23.16771266 18.17197362 35.87693962 23.141157   18.60220629  6.00254147\n",
      " 15.60180328 22.33507389 15.3535816  27.61263476 22.4649764  28.21092786\n",
      " 18.15490617 35.01620664 31.02216739 24.61276072 31.10364938 18.15183519\n",
      " 23.24857071 24.09132879 31.18942752 17.82052871 10.56289033 13.84047016\n",
      " 33.91372541 27.34549734 18.20645506 40.25034402 37.26382254 24.34647993\n",
      " 25.58241293 20.8080617  19.44387436 21.65384862 24.7917025  23.57930203\n",
      " 17.7439233  26.53004086  2.73621002 12.06188366 25.07095781 24.28437818\n",
      " 22.58634007  7.42686055 28.20683204 20.83255722 20.14923035 24.74508011\n",
      " 33.5627065   6.97044992 24.24465434 37.33175609 15.83213109 18.7616193\n",
      " 20.52383071 18.50562761 22.03933497 25.38739339 23.89350238 28.10059882\n",
      " 16.93305611 16.63168974 26.32602667 28.86476551 34.69708167 21.75286113\n",
      " 36.70525032 39.07650911 24.64909594 40.80625455 33.97629377 24.64129314]\n"
     ]
    },
    {
     "data": {
      "image/png": "[encoded data removed]",
      "text/plain": [
       "<Figure size 432x288 with 1 Axes>"
      ]
     },
     "metadata": {
      "needs_background": "light"
     },
     "output_type": "display_data"
    },
    {
     "name": "stdout",
     "output_type": "stream",
     "text": [
      "22.548158689769725\n"
     ]
    }
   ],
   "source": [
    "train_X = np.loadtxt(os.path.join('Data', 'D:\\Downloads\\Assignment 2\\Assignment 2\\Data\\ex2traindata.txt'))\n",
    "train_Y = np.loadtxt(os.path.join('Data', 'D:\\Downloads\\Assignment 2\\Assignment 2\\Data\\ex2trainlabels.txt'))\n",
    "test_X = np.loadtxt(os.path.join('Data', 'D:\\Downloads\\Assignment 2\\Assignment 2\\Data\\ex2testdata.txt'))\n",
    "test_Y = np.loadtxt(os.path.join('Data', 'D:\\Downloads\\Assignment 2\\Assignment 2\\Data\\ex2testlabels.txt'))\n",
    "ridger=Ridge(alpha=1)\n",
    "ridger.fit(train_X,train_Y)\n",
    "y_ridger=ridger.predict(test_X)\n",
    "print(y_ridger)\n",
    "n_alphas = 1000\n",
    "alphas = np.logspace(-2, 2, n_alphas)\n",
    "\n",
    "coefs = []\n",
    "for a in alphas:\n",
    "    ridge = linear_model.Ridge(alpha=a, fit_intercept=False)\n",
    "    ridge.fit(train_X, train_Y)\n",
    "    coefs.append(ridge.coef_)\n",
    "\n",
    "ax = plt.gca()\n",
    "\n",
    "ax.plot(alphas, coefs)\n",
    "ax.set_xscale(\"log\")\n",
    "\n",
    "plt.xlabel(\"alpha\")\n",
    "plt.ylabel(\"weights\")\n",
    "plt.title(\"Ridge coefficients as a function of the regularization\")\n",
    "plt.axis(\"tight\")\n",
    "plt.show()\n",
    "print(mean_squared_error(test_Y, y_ridger))  \n"
   ]
  },
  {
   "cell_type": "code",
   "execution_count": 40,
   "metadata": {},
   "outputs": [
    {
     "name": "stdout",
     "output_type": "stream",
     "text": [
      "[ 9.69267239 21.05859431 20.94145461 34.25223414 25.95902598 20.56741038\n",
      " 28.15310405 25.07113862 20.30519458 22.82489511 20.29027213 18.07938917\n",
      " 16.46141024 35.31166595 19.41369959 19.34727116 24.58140904 21.01346252\n",
      " 19.99079236 23.79286427 12.20780045 17.14218992 22.51468752 12.92570511\n",
      " 21.18070615 23.94073547 33.46176314 24.2631555  13.35213096 20.71939252\n",
      " 23.45082103 19.1486881  36.09743765 23.47113531 19.03141995  5.92425733\n",
      " 14.02090469 22.96425377 16.01731242 27.09134249 22.06997029 28.61755389\n",
      " 17.75679772 34.75579014 31.29455712 24.73234165 31.12655323 18.09268992\n",
      " 22.62638989 24.21208909 30.5854317  18.71860574 10.50163617 13.73779292\n",
      " 34.4022841  27.53140317 18.08151522 40.05101982 37.63271513 24.64021422\n",
      " 25.73823434 20.64369987 20.33514699 21.38393124 24.63485497 23.53071805\n",
      " 17.42141466 26.76911736  3.83782148 11.97063636 24.2602519  23.67191799\n",
      " 23.66639182  8.4403269  28.52690962 20.94071229 20.44489658 24.77678169\n",
      " 33.77299778  7.02038331 24.55379254 36.73923493 16.09878612 18.14663987\n",
      " 20.48899554 18.7928142  22.45683561 26.19154506 23.36585592 28.89583791\n",
      " 17.48243942 16.05642916 26.69532678 28.1393996  35.04164989 20.05308052\n",
      " 36.25269116 38.51475052 25.13506119 41.49062194 34.65500235 25.33950895]\n"
     ]
    },
    {
     "data": {
      "image/png": "[encoded data removed]",
      "text/plain": [
       "<Figure size 432x288 with 1 Axes>"
      ]
     },
     "metadata": {
      "needs_background": "light"
     },
     "output_type": "display_data"
    },
    {
     "name": "stdout",
     "output_type": "stream",
     "text": [
      "23.195599256423154\n"
     ]
    }
   ],
   "source": [
    "train_X = np.loadtxt(os.path.join('Data', 'D:\\Downloads\\Assignment 2\\Assignment 2\\Data\\ex2traindata.txt'))\n",
    "train_Y = np.loadtxt(os.path.join('Data', 'D:\\Downloads\\Assignment 2\\Assignment 2\\Data\\ex2trainlabels.txt'))\n",
    "test_X = np.loadtxt(os.path.join('Data', 'D:\\Downloads\\Assignment 2\\Assignment 2\\Data\\ex2testdata.txt'))\n",
    "test_Y = np.loadtxt(os.path.join('Data', 'D:\\Downloads\\Assignment 2\\Assignment 2\\Data\\ex2testlabels.txt'))\n",
    "l=Lasso(alpha =1)\n",
    "l.fit(train_X,train_Y)\n",
    "\n",
    "y_l=regr.predict(test_X)\n",
    "print(y_l)\n",
    "n_alphas = 100\n",
    "alphas = np.logspace(-2, 2, n_alphas)\n",
    "\n",
    "coefs_l = []\n",
    "for a in alphas:\n",
    "    lass = linear_model.Lasso(alpha=a, fit_intercept=False)\n",
    "    lass.fit(train_X, train_Y)\n",
    "    coefs_l.append(lass.coef_)\n",
    "\n",
    "ax = plt.gca()\n",
    "\n",
    "ax.plot(alphas, coefs_l)\n",
    "ax.set_xscale(\"log\")\n",
    "\n",
    "plt.xlabel(\"alpha\")\n",
    "plt.ylabel(\"weights\")\n",
    "plt.title(\"Ridge coefficients as a function of the regularization\")\n",
    "plt.axis(\"tight\")\n",
    "plt.show()\n",
    "print(mean_squared_error(test_Y, y_l))"
   ]
  },
  {
   "cell_type": "code",
   "execution_count": null,
   "metadata": {},
   "outputs": [],
   "source": []
  }
 ],
 "metadata": {
  "colab": {
   "collapsed_sections": [],
   "include_colab_link": true,
   "name": "21100164.ipynb",
   "provenance": []
  },
  "kernelspec": {
   "display_name": "Python 3",
   "language": "python",
   "name": "python3"
  },
  "language_info": {
   "codemirror_mode": {
    "name": "ipython",
    "version": 3
   },
   "file_extension": ".py",
   "mimetype": "text/x-python",
   "name": "python",
   "nbconvert_exporter": "python",
   "pygments_lexer": "ipython3",
   "version": "3.8.8"
  }
 },
 "nbformat": 4,
 "nbformat_minor": 1
}
